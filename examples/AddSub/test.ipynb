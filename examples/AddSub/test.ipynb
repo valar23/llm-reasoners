{
 "cells": [
  {
   "cell_type": "code",
   "execution_count": 20,
   "metadata": {},
   "outputs": [],
   "source": [
    "from utils import *\n",
    "from inference import *"
   ]
  },
  {
   "cell_type": "code",
   "execution_count": 21,
   "metadata": {},
   "outputs": [],
   "source": [
    "import pickle\n",
    "from typing import Type, Callable, Optional\n",
    "import json\n",
    "import numpy as np\n",
    "from datasets import load_dataset\n",
    "from tqdm import tqdm\n",
    "from datetime import datetime\n",
    "import os\n",
    "from datasets import Dataset\n",
    "import utils\n",
    "def data_reader(args, split=None):\n",
    "    questions = []\n",
    "    answers = []\n",
    "    equations = []\n",
    "    filename = os.path.join(args.dataset_path, \"AddSub.json\")\n",
    "    with open(filename, 'r') as file:\n",
    "        data = json.load(file)\n",
    "        if split is not None:\n",
    "            start, end = split\n",
    "            data = data[start:end]\n",
    "        for item in data:\n",
    "            if isinstance(item, dict):\n",
    "                questions.append(item['sQuestion'])\n",
    "                answers.append(item['lSolutions'][0]) \n",
    "                equations.append(item['lEquations'][0])\n",
    "            else:\n",
    "                raise ValueError(\"Unexpected data format\")\n",
    "    return Dataset.from_dict({\"question\": questions, \"answer\": answers, \"equations\": equations})\n"
   ]
  },
  {
   "cell_type": "code",
   "execution_count": 22,
   "metadata": {},
   "outputs": [],
   "source": [
    "from collections import namedtuple\n",
    "\n",
    "Args = namedtuple('Args', ['dataset', 'dataset_path'])\n",
    "args = Args(dataset=\"AddSub\", dataset_path=r\"/Users/huangyueshan/Documents/llm-reasoners/examples/AddSub/dataset/AddSub\")\n"
   ]
  },
  {
   "cell_type": "code",
   "execution_count": 23,
   "metadata": {},
   "outputs": [
    {
     "name": "stdout",
     "output_type": "stream",
     "text": [
      "Dataset({\n",
      "    features: ['question', 'answer', 'equations'],\n",
      "    num_rows: 10\n",
      "})\n"
     ]
    }
   ],
   "source": [
    "\n",
    "data = data_reader(args, [0,10])  # replace the split value with appropriate indices\n",
    "print(data)\n"
   ]
  },
  {
   "cell_type": "code",
   "execution_count": 24,
   "metadata": {},
   "outputs": [
    {
     "name": "stdout",
     "output_type": "stream",
     "text": [
      "{'question': 'Joan found 70 seashells on the beach . she gave Sam some of her seashells . She has 27 seashell . How many seashells did she give to Sam ? ', 'answer': '43', 'equations': 'X = 70 - 27'}\n",
      "{'question': 'There were 28 bales of hay in the barn . Tim stacked bales in the barn today . There are now 54 bales of hay in the barn . How many bales did he store in the barn ? ', 'answer': '26', 'equations': 'X = 54 - 28'}\n",
      "{'question': 'Mary is baking a cake . The recipe wants 8 cups of flour . She already put in 2 cups . How many cups does she need to add ? ', 'answer': '6', 'equations': 'X = 8 - 2'}\n",
      "{'question': \"Sara 's high school played 12 basketball games this year . The team won most of their games . They were defeated during 4 games . How many games did they win ? \", 'answer': '8', 'equations': 'X = 12 - 4'}\n",
      "{'question': 'There are 22 walnut trees currently in the park . Park workers will plant walnut trees today . When the workers are finished there will be 55 walnut trees in the park . How many walnut trees did the workers plant today ? ', 'answer': '33', 'equations': 'X = 55 - 22'}\n",
      "{'question': 'Mike had 34 peaches at his roadside fruit dish . He went to the orchard and picked peaches to stock up . There are now 86 peaches . how many did he pick ? ', 'answer': '52', 'equations': 'X = 86 - 34'}\n",
      "{'question': 'There were 6 roses in the vase . Mary cut some roses from her flower garden . There are now 16 roses in the vase . How many roses did she cut ? ', 'answer': '10', 'equations': 'X = 16 - 6'}\n",
      "{'question': 'Joan went to 4 football games this year . She went to 9 games last year . How many football games did Joan go to in all ? ', 'answer': '13', 'equations': 'X = 4 + 9'}\n",
      "{'question': 'Tom has 9 yellow balloons Sara has 8 yellow balloons . How many yellow balloons do they have in total ? ', 'answer': '17', 'equations': 'X = 9 + 8'}\n",
      "{'question': 'There are 4 walnut trees currently in the park . Park workers will plant 6 walnut trees today . How many walnut trees will the park have when the workers are finished ? ', 'answer': '10', 'equations': 'X = 4 + 6'}\n"
     ]
    }
   ],
   "source": [
    "for row in data:\n",
    "    print(row)"
   ]
  },
  {
   "cell_type": "code",
   "execution_count": null,
   "metadata": {},
   "outputs": [],
   "source": []
  },
  {
   "cell_type": "code",
   "execution_count": null,
   "metadata": {},
   "outputs": [],
   "source": []
  }
 ],
 "metadata": {
  "kernelspec": {
   "display_name": "myen",
   "language": "python",
   "name": "python3"
  },
  "language_info": {
   "codemirror_mode": {
    "name": "ipython",
    "version": 3
   },
   "file_extension": ".py",
   "mimetype": "text/x-python",
   "name": "python",
   "nbconvert_exporter": "python",
   "pygments_lexer": "ipython3",
   "version": "3.10.12"
  },
  "orig_nbformat": 4
 },
 "nbformat": 4,
 "nbformat_minor": 2
}
