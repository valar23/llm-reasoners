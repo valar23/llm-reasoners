{
 "cells": [
  {
   "cell_type": "code",
   "execution_count": 7,
   "metadata": {},
   "outputs": [],
   "source": [
    "import pickle\n",
    "from typing import Type, Callable, Optional\n",
    "\n",
    "import numpy as np\n",
    "from datasets import load_dataset\n",
    "from tqdm import tqdm\n",
    "from datetime import datetime\n",
    "\n",
    "from reasoners import LanguageModel, Reasoner, SearchAlgorithm\n",
    "from reasoners.algorithm import MCTS\n",
    "\n",
    "from world_model import MATHWorldModel\n",
    "from search_config import MATHConfig\n",
    "import utils\n",
    "\n",
    "from datasets import Dataset\n",
    "import os\n",
    "import re\n",
    "import json"
   ]
  },
  {
   "cell_type": "code",
   "execution_count": 8,
   "metadata": {},
   "outputs": [],
   "source": [
    "def data_reader(dataset,dataset_path, split=None, sample_size=100):\n",
    "    questions = []\n",
    "    answers = []\n",
    "    options = []\n",
    "    filename = os.path.join(dataset_path, 'AQuA.json')\n",
    "    with open(filename, 'r') as file:\n",
    "        lines = file.readlines()\n",
    "        if split is not None:\n",
    "            start, end = split\n",
    "            lines = lines[start:end]\n",
    "        for line in lines:\n",
    "            data = json.loads(line)\n",
    "            if isinstance(data, dict):\n",
    "                options_list = data['options']\n",
    "                options_dict = {}\n",
    "                for option in options_list:\n",
    "                    match = re.search(r'([A-E])\\)[^0-9]*([\\d.]+)', option)\n",
    "                    if match:\n",
    "                        options_dict[match.group(1)] = float(match.group(2))\n",
    "                question_with_options = data['question'] + \"\\n\" + \"\\n\".join(data['options'])\n",
    "                questions.append(question_with_options)\n",
    "                # answers.append(options_dict.get(data['correct']))\n",
    "                answers.append(data['correct'])\n",
    "                options.append(options_list)\n",
    "            else:\n",
    "                raise ValueError(\"Unexpected data format\")\n",
    "    return Dataset.from_dict({\"question\": questions, \"answer\": answers, \"options\":options})"
   ]
  },
  {
   "cell_type": "code",
   "execution_count": 9,
   "metadata": {},
   "outputs": [],
   "source": [
    "datasetname: str = 'AQuA'\n",
    "dataset_path: str = '/data/yueshan/llm-reasoners/examples/AQuA/dataset/AQuA'\n",
    "dataset = data_reader(datasetname, dataset_path)\n"
   ]
  },
  {
   "cell_type": "code",
   "execution_count": 10,
   "metadata": {},
   "outputs": [
    {
     "name": "stdout",
     "output_type": "stream",
     "text": [
      "E\n"
     ]
    }
   ],
   "source": [
    "print(dataset[1][\"answer\"])"
   ]
  },
  {
   "cell_type": "code",
   "execution_count": null,
   "metadata": {},
   "outputs": [],
   "source": []
  },
  {
   "cell_type": "code",
   "execution_count": null,
   "metadata": {},
   "outputs": [],
   "source": []
  }
 ],
 "metadata": {
  "kernelspec": {
   "display_name": "myen",
   "language": "python",
   "name": "python3"
  },
  "language_info": {
   "codemirror_mode": {
    "name": "ipython",
    "version": 3
   },
   "file_extension": ".py",
   "mimetype": "text/x-python",
   "name": "python",
   "nbconvert_exporter": "python",
   "pygments_lexer": "ipython3",
   "version": "3.10.12"
  },
  "orig_nbformat": 4
 },
 "nbformat": 4,
 "nbformat_minor": 2
}
