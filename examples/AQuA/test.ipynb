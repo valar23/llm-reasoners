{
 "cells": [
  {
   "cell_type": "code",
   "execution_count": 283,
   "metadata": {},
   "outputs": [],
   "source": [
    "import pickle\n",
    "from typing import Type, Callable, Optional\n",
    "\n",
    "import numpy as np\n",
    "from datasets import load_dataset\n",
    "from tqdm import tqdm\n",
    "from datetime import datetime\n",
    "\n",
    "from reasoners import LanguageModel, Reasoner, SearchAlgorithm\n",
    "from reasoners.algorithm import MCTS\n",
    "\n",
    "from world_model import MATHWorldModel\n",
    "from search_config import MATHConfig\n",
    "import utils\n",
    "\n",
    "from datasets import Dataset\n",
    "import os\n",
    "import re\n",
    "import json"
   ]
  },
  {
   "cell_type": "code",
   "execution_count": 284,
   "metadata": {},
   "outputs": [],
   "source": [
    "# def data_reader(dataset,dataset_path, split=None, sample_size=100):\n",
    "#     questions = []\n",
    "#     answers = []\n",
    "#     options = []\n",
    "#     check = []\n",
    "#     filename = os.path.join(dataset_path, 'AQuA.json')\n",
    "#     with open(filename, 'r') as file:\n",
    "#         lines = file.readlines()\n",
    "#         if split is not None:\n",
    "#             start, end = split\n",
    "#             lines = lines[start:end]\n",
    "#         for line in lines:\n",
    "#             data = json.loads(line)\n",
    "#             if isinstance(data, dict):\n",
    "#                 options_list = data['options']\n",
    "#                 options_dict = {}\n",
    "#                 transformed_options = []\n",
    "#                 for option in options_list:\n",
    "#                     match = re.search(r'([A-E])\\)[^0-9]*([\\d.]+)', option)\n",
    "#                     if match:\n",
    "#                         formatted_option = match.group(1) + \") \" + match.group(2)  # Formatted option\n",
    "#                         transformed_options.append(formatted_option)\n",
    "#                         options_dict[match.group(1)] = float(match.group(2))\n",
    "#                 question_with_options = data['question'] + \" \" + \" \".join(transformed_options)\n",
    "#                 questions.append(question_with_options)\n",
    "#                 check.append(transformed_options)\n",
    "#                 # answers.append(options_dict.get(data['correct']))\n",
    "#                 answers.append(data['correct'])\n",
    "#                 options.append(options_list)\n",
    "#             else:\n",
    "#                 raise ValueError(\"Unexpected data format\")\n",
    "#     return Dataset.from_dict({\"question\": questions, \"answer\": answers, \"options\":options, \"check\": check})"
   ]
  },
  {
   "cell_type": "code",
   "execution_count": 285,
   "metadata": {},
   "outputs": [],
   "source": [
    "def clean_option_value(value: str) -> str:\n",
    "    # List of words and characters to exclude\n",
    "    to_exclude = [\"%\", \"$\", \"#\", \" min\", \" minutes\", \"seconds\" ,\"step/minute\", \"miles\", \"utes\", \"km\", \"Rs. \", \"days\", \"m\", \"cm\",\"feet\", \"days\", \"Loss\", \"Min\",\"units\", \"months\", \"men\", \"kmph\",]  # added spaces before \"min\" to avoid removing from mathematical expressions\n",
    "    \n",
    "    for item in to_exclude:\n",
    "        value = value.replace(item, \"\")\n",
    "        \n",
    "    match = re.match(r'([A-E])\\)', value)\n",
    "    if match:\n",
    "        # Replace \"A)\" with \"A) \" without adding extra spaces if one already exists\n",
    "        value = re.sub(r'([A-E])\\)', match.group(1) + ') ', value).strip()\n",
    "        \n",
    "    return value"
   ]
  },
  {
   "cell_type": "code",
   "execution_count": 286,
   "metadata": {},
   "outputs": [],
   "source": [
    "def data_reader(dataset,dataset_path, split=None, sample_size=100):\n",
    "    questions = []\n",
    "    answers = []\n",
    "    options = []\n",
    "    filename = os.path.join(dataset_path, 'AQuA.json')\n",
    "    with open(filename, 'r') as file:\n",
    "        lines = file.readlines()\n",
    "        if split is not None:\n",
    "            start, end = split\n",
    "            lines = lines[start:end]\n",
    "        for line in lines:\n",
    "            data = json.loads(line)\n",
    "            if isinstance(data, dict):\n",
    "                options_list = data['options']\n",
    "                cleaned_options = [clean_option_value(opt) for opt in options_list]\n",
    "                transformed_options = []\n",
    "                question_with_options = data['question'] + \" \" + \" \".join(cleaned_options)\n",
    "                questions.append(question_with_options)\n",
    "                answers.append(data['correct'])\n",
    "                options.append(options_list)\n",
    "            else:\n",
    "                raise ValueError(\"Unexpected data format\")\n",
    "    return Dataset.from_dict({\"question\": questions, \"answer\": answers, \"options\":options})"
   ]
  },
  {
   "cell_type": "code",
   "execution_count": 287,
   "metadata": {},
   "outputs": [],
   "source": [
    "datasetname: str = 'AQuA'\n",
    "dataset_path: str = '/data/yueshan/llm-reasoners/examples/AQuA/dataset/AQuA'\n",
    "dataset = data_reader(datasetname, dataset_path)\n"
   ]
  },
  {
   "cell_type": "code",
   "execution_count": 288,
   "metadata": {},
   "outputs": [
    {
     "name": "stdout",
     "output_type": "stream",
     "text": [
      "A car is being driven, in a straight line and at a uniform speed, towards the base of a vertical tower. The top of the tower is observed from the car and, in the process, it takes 10 minutes for the angle of elevation to change from 45° to 60°. After how much more time will this car reach the base of the tower? A) 5(√3 + 1) B) 6(√3 + √2) C) 7(√3 – 1) D) 8(√3 – 2) E) None of these\n"
     ]
    }
   ],
   "source": [
    "for i in range(1):\n",
    "    print(dataset[i][\"question\"])"
   ]
  },
  {
   "cell_type": "code",
   "execution_count": 289,
   "metadata": {},
   "outputs": [],
   "source": [
    "def retrieve_answer(output: str) -> Optional[str]:\n",
    "    match = re.search(r'(?i)answer is[ (]*([A-Za-z0-9]+)(?!.*the answer is)', output)\n",
    "    if match is None:\n",
    "        return None\n",
    "    answer = match[1].replace(',', '').replace('$', '').replace(' ', '')\n",
    "    if '=' in answer:\n",
    "        answer = answer[answer.rindex('=') + 1:]\n",
    "    return answer.upper()"
   ]
  },
  {
   "cell_type": "code",
   "execution_count": 290,
   "metadata": {},
   "outputs": [],
   "source": [
    "outputs = [\n",
    "    \"after calculation 18-9=9, The answer is B)\",\n",
    "    \"after calculation 18-9=9, The answer is (B\",\n",
    "    \"after calculation 18-9=9, The answer is (B)\",\n",
    "    \"after calculation 18-9=9, The answer is B \",\n",
    "    \"after calculation 18-9=9, The answer is B.\",\n",
    "    \"after calculation 18-9=9, The answer is B, \",\n",
    "    \"after calculation 18-9=9, The answer is a\",\n",
    "    \"after calculation 18-9=9, so the answer is d\",\n",
    "    'When we plug in 2 × 19 + 15 + 7 for the expression in parentheses, we get 5 + 126 = 6, so the answer is E. \"Civil War\"',\n",
    "    'If he increases the price by 20%, the profit percentage will be the same as it was on Day 1. So the answer is A.',\n",
    "    'The correct option is option B) 13x/2 - 6, where x is the length of a picket in inches. The correct answer is B.',\n",
    "    'Since the answer is a square root, it can be found by using the following equation:X = (-b +- sqrt(b^2 - 4ac)) / 2a, the answer is d'\n",
    "]"
   ]
  },
  {
   "cell_type": "code",
   "execution_count": 291,
   "metadata": {},
   "outputs": [
    {
     "name": "stdout",
     "output_type": "stream",
     "text": [
      "B\n",
      "B\n",
      "B\n",
      "B\n",
      "B\n",
      "B\n",
      "A\n",
      "D\n",
      "E\n",
      "A\n",
      "B\n",
      "D\n"
     ]
    }
   ],
   "source": [
    "for output in outputs:\n",
    "    print(retrieve_answer(output))"
   ]
  }
 ],
 "metadata": {
  "kernelspec": {
   "display_name": "myen",
   "language": "python",
   "name": "python3"
  },
  "language_info": {
   "codemirror_mode": {
    "name": "ipython",
    "version": 3
   },
   "file_extension": ".py",
   "mimetype": "text/x-python",
   "name": "python",
   "nbconvert_exporter": "python",
   "pygments_lexer": "ipython3",
   "version": "3.10.12"
  },
  "orig_nbformat": 4
 },
 "nbformat": 4,
 "nbformat_minor": 2
}
